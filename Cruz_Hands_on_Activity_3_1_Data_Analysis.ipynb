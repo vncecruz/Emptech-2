{
  "nbformat": 4,
  "nbformat_minor": 0,
  "metadata": {
    "colab": {
      "provenance": [],
      "authorship_tag": "ABX9TyOegsyh6UXyplb1+H4dAoXA",
      "include_colab_link": true
    },
    "kernelspec": {
      "name": "python3",
      "display_name": "Python 3"
    },
    "language_info": {
      "name": "python"
    }
  },
  "cells": [
    {
      "cell_type": "markdown",
      "metadata": {
        "id": "view-in-github",
        "colab_type": "text"
      },
      "source": [
        "<a href=\"https://colab.research.google.com/github/vncecruz/Emptech-2/blob/main/Cruz_Hands_on_Activity_3_1_Data_Analysis.ipynb\" target=\"_parent\"><img src=\"https://colab.research.google.com/assets/colab-badge.svg\" alt=\"Open In Colab\"/></a>"
      ]
    },
    {
      "cell_type": "markdown",
      "metadata": {
        "id": "k4ta5CmOeo7d"
      },
      "source": [
        "#Submission Details\n",
        "\n",
        "Name: Vince Joseph B. Cruz<br>\n",
        "Course and Section: CPE 019-CPE32S1 - Emerging Technologies 2 in CpE <br>\n",
        "Date of Submission: June 14, 2024 <br>\n",
        "Instructor: Engr. Roman Richard<br>\n",
        "\n",
        "---"
      ]
    },
    {
      "cell_type": "markdown",
      "source": [
        "Part 1: The Dataset"
      ],
      "metadata": {
        "id": "WSSHZvSU8b90"
      }
    },
    {
      "cell_type": "code",
      "source": [],
      "metadata": {
        "id": "mPJooOpy8pF1"
      },
      "execution_count": null,
      "outputs": []
    },
    {
      "cell_type": "markdown",
      "source": [
        "Part 2: Scatterplot Graphs and Correlatable Variables"
      ],
      "metadata": {
        "id": "IddYnBCT8ch0"
      }
    },
    {
      "cell_type": "code",
      "source": [],
      "metadata": {
        "id": "aeAfarVj8piu"
      },
      "execution_count": null,
      "outputs": []
    },
    {
      "cell_type": "markdown",
      "source": [
        "Part 3: Calculating Correlation with Python"
      ],
      "metadata": {
        "id": "pri8FOfm8ecb"
      }
    },
    {
      "cell_type": "code",
      "source": [],
      "metadata": {
        "id": "1rnKybX18p6d"
      },
      "execution_count": null,
      "outputs": []
    },
    {
      "cell_type": "markdown",
      "source": [
        "Part 4: Visualizing"
      ],
      "metadata": {
        "id": "5IvY6lTT8gik"
      }
    },
    {
      "cell_type": "code",
      "source": [],
      "metadata": {
        "id": "NVgV9JMX8qZT"
      },
      "execution_count": null,
      "outputs": []
    },
    {
      "cell_type": "markdown",
      "source": [],
      "metadata": {
        "id": "CP_Kt9pr8iEc"
      }
    },
    {
      "cell_type": "code",
      "execution_count": null,
      "metadata": {
        "id": "iCDg-urR7cef"
      },
      "outputs": [],
      "source": []
    }
  ]
}