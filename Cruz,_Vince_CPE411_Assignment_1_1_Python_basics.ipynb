{
  "nbformat": 4,
  "nbformat_minor": 0,
  "metadata": {
    "colab": {
      "provenance": [],
      "include_colab_link": true
    },
    "kernelspec": {
      "name": "python3",
      "display_name": "Python 3"
    }
  },
  "cells": [
    {
      "cell_type": "markdown",
      "metadata": {
        "id": "view-in-github",
        "colab_type": "text"
      },
      "source": [
        "<a href=\"https://colab.research.google.com/github/vncecruz/Emptech-2/blob/main/Cruz%2C_Vince_CPE411_Assignment_1_1_Python_basics.ipynb\" target=\"_parent\"><img src=\"https://colab.research.google.com/assets/colab-badge.svg\" alt=\"Open In Colab\"/></a>"
      ]
    },
    {
      "cell_type": "markdown",
      "metadata": {
        "id": "zbJ2fw29OHAX"
      },
      "source": [
        "Notebook prepared by Mathieu Blondel."
      ]
    },
    {
      "cell_type": "markdown",
      "metadata": {
        "id": "k4ta5CmOeo7d"
      },
      "source": [
        "#Submission Details\n",
        "\n",
        "Name: Vince Joseph B. Cruz<br>\n",
        "Course and Section:  CPE 412-CPE31S4 - Human-AI Interaction  <br>\n",
        "Date of Submission: September 6, 2024 <br>\n",
        "Instructor: Engr. Roman Richard<br>\n",
        "\n",
        "---"
      ]
    },
    {
      "cell_type": "markdown",
      "metadata": {
        "id": "YV4sYCn8EPwb"
      },
      "source": [
        "# Notebooks"
      ]
    },
    {
      "cell_type": "markdown",
      "metadata": {
        "id": "2HuuwOcQEYQI"
      },
      "source": [
        "This week, we will use Jupyter notebooks and Google colab as the primary way to practice machine learning. Notebooks are a great way to mix executable code with rich contents (HTML, images, equations written in LaTeX). Colab allows to run notebooks on the cloud for free without any prior installation, while leveraging the power of [GPUs](https://en.wikipedia.org/wiki/Graphics_processing_unit)."
      ]
    },
    {
      "cell_type": "markdown",
      "metadata": {
        "id": "t0XmMkPuGGOs"
      },
      "source": [
        "The document that you are reading is not a static web page, but an interactive environment called a notebook, that lets you write and execute code. Notebooks consist of so-called code cells, blocks of one or more Python instructions. For example, here is a code cell that stores the result of a computation (the number of seconds in a day) in a variable and prints its value:"
      ]
    },
    {
      "cell_type": "code",
      "metadata": {
        "id": "qeGAvLq1ALJ4",
        "colab": {
          "base_uri": "https://localhost:8080/",
          "height": 0
        },
        "outputId": "df1416a6-abad-44c7-a3df-a4f4f2bf8686"
      },
      "source": [
        "seconds_in_a_day = 24 * 60 * 60\n",
        "seconds_in_a_day"
      ],
      "execution_count": 1,
      "outputs": [
        {
          "output_type": "execute_result",
          "data": {
            "text/plain": [
              "86400"
            ]
          },
          "metadata": {},
          "execution_count": 1
        }
      ]
    },
    {
      "cell_type": "markdown",
      "metadata": {
        "id": "njoPs3q1G75-"
      },
      "source": [
        "Click on the \"play\" button to execute the cell. You should be able to see the result. Alternatively, you can also execute the cell by pressing Ctrl + Enter if you are on Windows / Linux or Command + Enter if you are on a Mac."
      ]
    },
    {
      "cell_type": "markdown",
      "metadata": {
        "id": "NvdYaBgHHdbw"
      },
      "source": [
        "Variables that you defined in one cell can later be used in other cells:"
      ]
    },
    {
      "cell_type": "code",
      "metadata": {
        "id": "s1kp5Zv0JBSx",
        "colab": {
          "base_uri": "https://localhost:8080/",
          "height": 34
        },
        "outputId": "5c3d203f-046d-4555-d398-36e91dbe685c"
      },
      "source": [
        "seconds_in_a_week = 7 * seconds_in_a_day\n",
        "seconds_in_a_week"
      ],
      "execution_count": null,
      "outputs": [
        {
          "output_type": "execute_result",
          "data": {
            "text/plain": [
              "604800"
            ]
          },
          "metadata": {
            "tags": []
          },
          "execution_count": 20
        }
      ]
    },
    {
      "cell_type": "markdown",
      "metadata": {
        "id": "uALfY4q1JFQ0"
      },
      "source": [
        "Note that the order of execution is important. For instance, if we do not run the cell storing *seconds_in_a_day* beforehand, the above cell will raise an error, as it depends on this variable. To make sure that you run all the cells in the correct order, you can also click on \"Runtime\" in the top-level menu, then \"Run all\"."
      ]
    },
    {
      "cell_type": "markdown",
      "metadata": {
        "id": "HvXs_KaoRWQ9"
      },
      "source": [
        "**Exercise.** Add a cell below this cell: click on this cell then click on \"+ Code\". In the new cell, compute the number of seconds in a year by reusing the variable *seconds_in_a_day*. Run the new cell."
      ]
    },
    {
      "cell_type": "markdown",
      "metadata": {
        "id": "qyLSwlxnJqXX"
      },
      "source": [
        "# Python"
      ]
    },
    {
      "cell_type": "markdown",
      "metadata": {
        "id": "3ltwm91eJyQM"
      },
      "source": [
        "Python is one of the most popular programming languages for machine learning, both in academia and in industry. As such, it is essential to learn this language for anyone interested in machine learning. In this section, we will review Python basics."
      ]
    },
    {
      "cell_type": "markdown",
      "metadata": {
        "id": "3EKvP6jiMZ9H"
      },
      "source": [
        "## Arithmetic operations"
      ]
    },
    {
      "cell_type": "markdown",
      "metadata": {
        "id": "DDjs0-7YQ80h"
      },
      "source": [
        "Python supports the usual arithmetic operators: + (addition), * (multiplication), / (division), ** (power), // (integer division)."
      ]
    },
    {
      "cell_type": "markdown",
      "metadata": {
        "id": "UhcbBQUiStHG"
      },
      "source": [
        "## Lists"
      ]
    },
    {
      "cell_type": "markdown",
      "metadata": {
        "id": "RkPn1IjNTCxA"
      },
      "source": [
        "Lists are a container type for ordered sequences of elements. Lists can be initialized empty"
      ]
    },
    {
      "cell_type": "code",
      "metadata": {
        "id": "OrnV1ySAPtHp"
      },
      "source": [
        "my_list = []"
      ],
      "execution_count": 2,
      "outputs": []
    },
    {
      "cell_type": "markdown",
      "metadata": {
        "id": "OwRqyYI9XnPK"
      },
      "source": [
        "or with some initial elements"
      ]
    },
    {
      "cell_type": "code",
      "metadata": {
        "id": "Uq5YTJ1JXpOX"
      },
      "source": [
        "my_list = [1, 2, 3]"
      ],
      "execution_count": 3,
      "outputs": []
    },
    {
      "cell_type": "markdown",
      "metadata": {
        "id": "Hk2WmojJXyyz"
      },
      "source": [
        "Lists have a dynamic size and elements can be added (appended) to them"
      ]
    },
    {
      "cell_type": "code",
      "metadata": {
        "id": "QFTNqiYiXxAh",
        "colab": {
          "base_uri": "https://localhost:8080/",
          "height": 0
        },
        "outputId": "f878556e-ce50-4cc1-8967-9004dcdaa099"
      },
      "source": [
        "my_list.append(4)\n",
        "my_list"
      ],
      "execution_count": 4,
      "outputs": [
        {
          "output_type": "execute_result",
          "data": {
            "text/plain": [
              "[1, 2, 3, 4]"
            ]
          },
          "metadata": {},
          "execution_count": 4
        }
      ]
    },
    {
      "cell_type": "markdown",
      "metadata": {
        "id": "IUnJuqQ2Yhzw"
      },
      "source": [
        "We can access individual elements of a list (indexing starts from 0)"
      ]
    },
    {
      "cell_type": "code",
      "metadata": {
        "id": "pyFxyZPVYpG_",
        "colab": {
          "base_uri": "https://localhost:8080/",
          "height": 34
        },
        "outputId": "7efb0bc1-25fb-4849-8d3a-cfa62b94a175"
      },
      "source": [
        "my_list[2]"
      ],
      "execution_count": null,
      "outputs": [
        {
          "output_type": "execute_result",
          "data": {
            "text/plain": [
              "3"
            ]
          },
          "metadata": {
            "tags": []
          },
          "execution_count": 10
        }
      ]
    },
    {
      "cell_type": "markdown",
      "metadata": {
        "id": "hPMrIDYsdgMP"
      },
      "source": [
        "We can access \"slices\" of a list using `my_list[i:j]` where `i` is the start of the slice (again, indexing starts from 0) and `j` the end of the slice. For instance:"
      ]
    },
    {
      "cell_type": "code",
      "metadata": {
        "id": "Ichf9p0gd7tJ",
        "colab": {
          "base_uri": "https://localhost:8080/",
          "height": 34
        },
        "outputId": "5f4ec085-431e-4e16-aab1-8708f2c931d4"
      },
      "source": [
        "my_list[1:3]"
      ],
      "execution_count": null,
      "outputs": [
        {
          "output_type": "execute_result",
          "data": {
            "text/plain": [
              "[2, 3]"
            ]
          },
          "metadata": {
            "tags": []
          },
          "execution_count": 14
        }
      ]
    },
    {
      "cell_type": "markdown",
      "metadata": {
        "id": "KMbzH4tzQ9rI"
      },
      "source": [
        "Omitting the second index means that the slice shoud run until the end of the list"
      ]
    },
    {
      "cell_type": "code",
      "metadata": {
        "id": "O7wCthKnREKV",
        "colab": {
          "base_uri": "https://localhost:8080/",
          "height": 34
        },
        "outputId": "5a04ea59-7a54-4b09-a8ee-3cd6171e8c7a"
      },
      "source": [
        "my_list[1:]"
      ],
      "execution_count": null,
      "outputs": [
        {
          "output_type": "execute_result",
          "data": {
            "text/plain": [
              "[2, 3, 4]"
            ]
          },
          "metadata": {
            "tags": []
          },
          "execution_count": 64
        }
      ]
    },
    {
      "cell_type": "markdown",
      "metadata": {
        "id": "C5Aeu7PUebrK"
      },
      "source": [
        "We can check if an element is in the list using `in`"
      ]
    },
    {
      "cell_type": "code",
      "metadata": {
        "id": "a_P5NCi-efvb",
        "colab": {
          "base_uri": "https://localhost:8080/",
          "height": 34
        },
        "outputId": "5012122e-f02c-4474-ec51-6ef8519e5733"
      },
      "source": [
        "5 in my_list"
      ],
      "execution_count": null,
      "outputs": [
        {
          "output_type": "execute_result",
          "data": {
            "text/plain": [
              "False"
            ]
          },
          "metadata": {
            "tags": []
          },
          "execution_count": 15
        }
      ]
    },
    {
      "cell_type": "markdown",
      "metadata": {
        "id": "LypIsP5gkl10"
      },
      "source": [
        "The length of a list can be obtained using the `len` function"
      ]
    },
    {
      "cell_type": "code",
      "metadata": {
        "id": "ac0FMsaKkrWc",
        "colab": {
          "base_uri": "https://localhost:8080/",
          "height": 34
        },
        "outputId": "0a7418d2-67a1-419c-e12b-e6ffb3b4b66d"
      },
      "source": [
        "len(my_list)"
      ],
      "execution_count": null,
      "outputs": [
        {
          "output_type": "execute_result",
          "data": {
            "text/plain": [
              "4"
            ]
          },
          "metadata": {
            "tags": []
          },
          "execution_count": 24
        }
      ]
    },
    {
      "cell_type": "markdown",
      "metadata": {
        "id": "1c3RLStf7G2I"
      },
      "source": [
        "## Strings"
      ]
    },
    {
      "cell_type": "markdown",
      "metadata": {
        "id": "Jm6hZhgz7KhI"
      },
      "source": [
        "Strings are used to store text. They can delimited using either single quotes or double quotes"
      ]
    },
    {
      "cell_type": "code",
      "metadata": {
        "id": "cCma6Oj_7T8n"
      },
      "source": [
        "string1 = \"some text\"\n",
        "string2 = 'some other text'"
      ],
      "execution_count": null,
      "outputs": []
    },
    {
      "cell_type": "markdown",
      "metadata": {
        "id": "Irr4xuWu7Znu"
      },
      "source": [
        "Strings behave similarly to lists. As such we can access individual elements in exactly the same way"
      ]
    },
    {
      "cell_type": "code",
      "metadata": {
        "id": "26_POhLO7iM3",
        "colab": {
          "base_uri": "https://localhost:8080/",
          "height": 35
        },
        "outputId": "fa06d3b9-c683-4b05-bedc-36bc43f57bd4"
      },
      "source": [
        "string1[3]"
      ],
      "execution_count": null,
      "outputs": [
        {
          "output_type": "execute_result",
          "data": {
            "application/vnd.google.colaboratory.intrinsic+json": {
              "type": "string"
            },
            "text/plain": [
              "'e'"
            ]
          },
          "metadata": {
            "tags": []
          },
          "execution_count": 49
        }
      ]
    },
    {
      "cell_type": "markdown",
      "metadata": {
        "id": "oA_UD0JV7oPw"
      },
      "source": [
        "and similarly for slices"
      ]
    },
    {
      "cell_type": "code",
      "metadata": {
        "id": "dcZFcLqQ7qCe",
        "colab": {
          "base_uri": "https://localhost:8080/",
          "height": 35
        },
        "outputId": "aba6c437-ade3-49da-9e6a-9383eab01fa9"
      },
      "source": [
        "string1[5:]"
      ],
      "execution_count": null,
      "outputs": [
        {
          "output_type": "execute_result",
          "data": {
            "application/vnd.google.colaboratory.intrinsic+json": {
              "type": "string"
            },
            "text/plain": [
              "'text'"
            ]
          },
          "metadata": {
            "tags": []
          },
          "execution_count": 53
        }
      ]
    },
    {
      "cell_type": "markdown",
      "metadata": {
        "id": "hOQ_CIiu76YG"
      },
      "source": [
        "String concatenation is performed using the `+` operator"
      ]
    },
    {
      "cell_type": "code",
      "metadata": {
        "id": "mxqNMKCY79_W",
        "colab": {
          "base_uri": "https://localhost:8080/",
          "height": 35
        },
        "outputId": "e5695c9e-0703-49b3-9608-b57ca8375ba9"
      },
      "source": [
        "string1 + \" \" + string2"
      ],
      "execution_count": null,
      "outputs": [
        {
          "output_type": "execute_result",
          "data": {
            "application/vnd.google.colaboratory.intrinsic+json": {
              "type": "string"
            },
            "text/plain": [
              "'some text some other text'"
            ]
          },
          "metadata": {
            "tags": []
          },
          "execution_count": 55
        }
      ]
    },
    {
      "cell_type": "markdown",
      "metadata": {
        "id": "7Lox2GZCMdIB"
      },
      "source": [
        "## Conditionals"
      ]
    },
    {
      "cell_type": "markdown",
      "metadata": {
        "id": "-gXEAWFZfDTT"
      },
      "source": [
        "As their name indicates, conditionals are a way to execute code depending on whether a condition is True or False. As in other languages, Python supports `if` and `else` but `else if` is contracted into `elif`, as the example below demonstrates."
      ]
    },
    {
      "cell_type": "code",
      "metadata": {
        "id": "xC_DMZjofoYZ",
        "colab": {
          "base_uri": "https://localhost:8080/",
          "height": 34
        },
        "outputId": "e86016aa-0ebd-4e0f-e559-326f4b2ce644"
      },
      "source": [
        "my_variable = 5\n",
        "if my_variable < 0:\n",
        "  print(\"negative\")\n",
        "elif my_variable == 0:\n",
        "  print(\"null\")\n",
        "else: # my_variable > 0\n",
        "  print(\"positive\")"
      ],
      "execution_count": null,
      "outputs": [
        {
          "output_type": "stream",
          "text": [
            "positive\n"
          ],
          "name": "stdout"
        }
      ]
    },
    {
      "cell_type": "markdown",
      "metadata": {
        "id": "Ag0SUokSf9jl"
      },
      "source": [
        "Here `<` and `>` are the strict `less` and `greater than` operators, while `==` is the equality operator (not to be confused with `=`, the variable assignment operator). The operators `<=` and `>=` can be used for less (resp. greater) than or equal comparisons."
      ]
    },
    {
      "cell_type": "markdown",
      "metadata": {
        "id": "qTkQ2F_jy8wz"
      },
      "source": [
        "Contrary to other languages, blocks of code are delimited using indentation. Here, we use 2-space indentation but many programmers also use 4-space indentation. Any one is fine as long as you are consistent throughout your code."
      ]
    },
    {
      "cell_type": "markdown",
      "metadata": {
        "id": "clWaFCzBMfkv"
      },
      "source": [
        "## Loops"
      ]
    },
    {
      "cell_type": "markdown",
      "metadata": {
        "id": "_A5doqhTivWe"
      },
      "source": [
        "Loops are a way to execute a block of code multiple times. There are two main types of loops: while loops and for loops."
      ]
    },
    {
      "cell_type": "markdown",
      "metadata": {
        "id": "YN8lwTxQkGEa"
      },
      "source": [
        "While loop"
      ]
    },
    {
      "cell_type": "code",
      "metadata": {
        "id": "7-QXGqgOjsr_",
        "colab": {
          "base_uri": "https://localhost:8080/",
          "height": 85
        },
        "outputId": "4a9bdffc-46ba-47ba-e60b-3ea01dcd2d65"
      },
      "source": [
        "i = 0\n",
        "while i < len(my_list):\n",
        "  print(my_list[i])\n",
        "  i += 1 # equivalent to i = i + 1"
      ],
      "execution_count": null,
      "outputs": [
        {
          "output_type": "stream",
          "text": [
            "1\n",
            "2\n",
            "3\n",
            "4\n"
          ],
          "name": "stdout"
        }
      ]
    },
    {
      "cell_type": "markdown",
      "metadata": {
        "id": "8mEI_ocfkSvZ"
      },
      "source": [
        "For loop"
      ]
    },
    {
      "cell_type": "code",
      "metadata": {
        "id": "2QObx5mckMcI",
        "colab": {
          "base_uri": "https://localhost:8080/",
          "height": 85
        },
        "outputId": "32c31a79-ef89-4e80-9e76-47540f839cb6"
      },
      "source": [
        "for i in range(len(my_list)):\n",
        "  print(my_list[i])"
      ],
      "execution_count": null,
      "outputs": [
        {
          "output_type": "stream",
          "text": [
            "1\n",
            "2\n",
            "3\n",
            "4\n"
          ],
          "name": "stdout"
        }
      ]
    },
    {
      "cell_type": "markdown",
      "metadata": {
        "id": "XO6qqppikZvm"
      },
      "source": [
        "If the goal is simply to iterate over a list, we can do so directly as follows"
      ]
    },
    {
      "cell_type": "code",
      "metadata": {
        "id": "PjFKzN6zkeJ7",
        "colab": {
          "base_uri": "https://localhost:8080/",
          "height": 85
        },
        "outputId": "41f3a553-b629-4e52-ad98-7bbe55e0cced"
      },
      "source": [
        "for element in my_list:\n",
        "  print(element)"
      ],
      "execution_count": null,
      "outputs": [
        {
          "output_type": "stream",
          "text": [
            "1\n",
            "2\n",
            "3\n",
            "4\n"
          ],
          "name": "stdout"
        }
      ]
    },
    {
      "cell_type": "markdown",
      "metadata": {
        "id": "Cck4zwYrex02"
      },
      "source": [
        "## Functions"
      ]
    },
    {
      "cell_type": "markdown",
      "metadata": {
        "id": "n1PbIf_ohxFO"
      },
      "source": [
        "To improve code readability, it is common to separate the code into different blocks, responsible for performing precise actions: functions. A function takes some inputs and process them to return some outputs."
      ]
    },
    {
      "cell_type": "code",
      "metadata": {
        "id": "cImA09gOhRmx",
        "colab": {
          "base_uri": "https://localhost:8080/",
          "height": 0
        },
        "outputId": "898a148c-7645-49a1-f093-b608610b689f"
      },
      "source": [
        "def square(x):\n",
        "  return x ** 2\n",
        "\n",
        "def multiply(a, b):\n",
        "  return a * b\n",
        "\n",
        "# Functions can be composed.\n",
        "square(multiply(3, 2))"
      ],
      "execution_count": 16,
      "outputs": [
        {
          "output_type": "execute_result",
          "data": {
            "text/plain": [
              "36"
            ]
          },
          "metadata": {},
          "execution_count": 16
        }
      ]
    },
    {
      "cell_type": "markdown",
      "metadata": {
        "id": "75-5SOk9iYSt"
      },
      "source": [
        "To improve code readability, it is sometimes useful to explicitly name the arguments"
      ]
    },
    {
      "cell_type": "code",
      "metadata": {
        "id": "wkIUuZHhidI0",
        "colab": {
          "base_uri": "https://localhost:8080/",
          "height": 34
        },
        "outputId": "acb68380-db78-491c-ce27-8a4664f78ce5"
      },
      "source": [
        "square(multiply(a=3, b=2))"
      ],
      "execution_count": null,
      "outputs": [
        {
          "output_type": "execute_result",
          "data": {
            "text/plain": [
              "36"
            ]
          },
          "metadata": {
            "tags": []
          },
          "execution_count": 18
        }
      ]
    },
    {
      "cell_type": "markdown",
      "metadata": {
        "id": "LkpwbQEVMys2"
      },
      "source": [
        "## Exercises"
      ]
    },
    {
      "cell_type": "markdown",
      "metadata": {
        "id": "ASpVhol9ZXI0"
      },
      "source": [
        "**Exercise 1.** Using a conditional, write the [relu](https://en.wikipedia.org/wiki/Rectifier_(neural_networks)) function defined as follows\n",
        "\n",
        "$\\text{relu}(x) = \\left\\{\n",
        "   \\begin{array}{rl}\n",
        "     x, & \\text{if }  x \\ge 0 \\\\\n",
        "     0, & \\text{otherwise }.\n",
        "   \\end{array}\\right.$"
      ]
    },
    {
      "cell_type": "code",
      "metadata": {
        "id": "jlgyu65SaUvr",
        "colab": {
          "base_uri": "https://localhost:8080/",
          "height": 0
        },
        "outputId": "9f862801-c665-49aa-f1da-144733556ddf"
      },
      "source": [
        "def relu(x):\n",
        "  # Write your function here\n",
        "  if x>=0:\n",
        "    return x\n",
        "  else:\n",
        "    return 0\n",
        "relu(-3)"
      ],
      "execution_count": 30,
      "outputs": [
        {
          "output_type": "execute_result",
          "data": {
            "text/plain": [
              "0"
            ]
          },
          "metadata": {},
          "execution_count": 30
        }
      ]
    },
    {
      "cell_type": "markdown",
      "metadata": {
        "id": "Y3so0ceoakIw"
      },
      "source": [
        "**Exercise 2.** Using a foor loop, write a function that computes the [Euclidean norm](https://en.wikipedia.org/wiki/Norm_(mathematics)#Euclidean_norm) of a vector, represented as a list."
      ]
    },
    {
      "cell_type": "code",
      "metadata": {
        "id": "-IH-BD41bI1u",
        "colab": {
          "base_uri": "https://localhost:8080/",
          "height": 0
        },
        "outputId": "909994f1-b70c-4281-bcbd-f3e1f6dbf4d4"
      },
      "source": [
        "def euclidean_norm(vector):\n",
        "  # Write your function here\n",
        "  sum_of_squares = 0\n",
        "  for value in vector:\n",
        "    sum_of_squares += value ** 2\n",
        "  return sum_of_squares ** 0.5\n",
        "\n",
        "import numpy as np\n",
        "my_vector = [0.5, -1.2, 3.3, 4.5]\n",
        "result = euclidean_norm(my_vector)\n",
        "# The result should be roughly 5.729746940310715\n",
        "print(result)"
      ],
      "execution_count": 29,
      "outputs": [
        {
          "output_type": "stream",
          "name": "stdout",
          "text": [
            "5.729746940310715\n"
          ]
        }
      ]
    },
    {
      "cell_type": "markdown",
      "metadata": {
        "id": "SEXIh_e9cW3S"
      },
      "source": [
        "**Exercise 3.** Using a for loop and a conditional, write a function that returns the maximum value in a vector."
      ]
    },
    {
      "cell_type": "code",
      "metadata": {
        "id": "zd9ntMq0cb2e",
        "colab": {
          "base_uri": "https://localhost:8080/",
          "height": 0
        },
        "outputId": "178da5cc-d005-4700-a016-1d4ec8ba4813"
      },
      "source": [
        "def vector_maximum(vector):\n",
        "  # Write your function here\n",
        "  if len(vector) == 0:\n",
        "    returnNone\n",
        "  max_value = vector[0]\n",
        "  for value in vector:\n",
        "    if value > max_value:\n",
        "      max_value = value\n",
        "  return max_value\\\n",
        "\n",
        "my_vector = [1, 2, 3, 4]\n",
        "vector_maximum(my_vector)"
      ],
      "execution_count": 21,
      "outputs": [
        {
          "output_type": "execute_result",
          "data": {
            "text/plain": [
              "4"
            ]
          },
          "metadata": {},
          "execution_count": 21
        }
      ]
    },
    {
      "cell_type": "markdown",
      "metadata": {
        "id": "qPAZA4OMc6sT"
      },
      "source": [
        "**Bonus exercise.** if time permits, write a function that sorts a list in ascending order (from smaller to bigger) using the [bubble sort](https://en.wikipedia.org/wiki/Bubble_sort) algorithm."
      ]
    },
    {
      "cell_type": "code",
      "metadata": {
        "id": "sBokdJO4dGyf",
        "colab": {
          "base_uri": "https://localhost:8080/",
          "height": 0
        },
        "outputId": "2809ddcb-ed92-47b1-c8c2-4d287d67f335"
      },
      "source": [
        "def bubble_sort(my_list):\n",
        "  # Write your function here\n",
        "  for _ in range(len(my_list)):\n",
        "    for j in range(len(my_list) - 1):\n",
        "      if my_list[j] > my_list[j + 1]:\n",
        "        my_list[j], my_list[j + 1] = my_list[j + 1], my_list[j]\n",
        "  return my_list\n",
        "\n",
        "my_list = [1, -3, 3, 2]\n",
        "# Should return [-3, 1, 2, 3]\n",
        "bubble_sort(my_list)"
      ],
      "execution_count": 19,
      "outputs": [
        {
          "output_type": "execute_result",
          "data": {
            "text/plain": [
              "[-3, 1, 2, 3]"
            ]
          },
          "metadata": {},
          "execution_count": 19
        }
      ]
    },
    {
      "cell_type": "markdown",
      "metadata": {
        "id": "jDxjvtEEM1vg"
      },
      "source": [
        "## Going further"
      ]
    },
    {
      "cell_type": "markdown",
      "metadata": {
        "id": "wRkmvzf-PdEp"
      },
      "source": [
        "Clearly, it is impossible to cover all the language features in this short introduction. To go further, we recommend the following resources:"
      ]
    },
    {
      "cell_type": "markdown",
      "metadata": {
        "id": "n8nbPoWclRlH"
      },
      "source": [
        "\n",
        "\n",
        "*   List of Python [tutorials](https://wiki.python.org/moin/BeginnersGuide/Programmers)\n",
        "* Four-hour [course](https://www.youtube.com/watch?v=rfscVS0vtbw) on Youtube\n",
        "\n"
      ]
    },
    {
      "cell_type": "markdown",
      "metadata": {
        "id": "6X4WJo3iM6m9"
      },
      "source": [
        "# NumPy"
      ]
    },
    {
      "cell_type": "markdown",
      "metadata": {
        "id": "_H3bNbLloXCY"
      },
      "source": [
        "NumPy is a popular library for storing arrays of numbers and performing computations on them. Not only this enables to write often more succint code, this also makes the code faster, since most NumPy routines are implemented in C for speed."
      ]
    },
    {
      "cell_type": "markdown",
      "metadata": {
        "id": "M7tI3XLhqwSX"
      },
      "source": [
        "To use NumPy in your program, you need to import it as follows"
      ]
    },
    {
      "cell_type": "code",
      "metadata": {
        "id": "phSPPyfyq2gX"
      },
      "source": [
        "import numpy as np"
      ],
      "execution_count": 6,
      "outputs": []
    },
    {
      "cell_type": "markdown",
      "metadata": {
        "id": "9secCfFLNHEE"
      },
      "source": [
        "## Array creation\n",
        "\n"
      ]
    },
    {
      "cell_type": "markdown",
      "metadata": {
        "id": "LSS2wEnkq97n"
      },
      "source": [
        "NumPy arrays can be created from Python lists"
      ]
    },
    {
      "cell_type": "code",
      "metadata": {
        "id": "Hfeg286yrLvJ",
        "colab": {
          "base_uri": "https://localhost:8080/",
          "height": 0
        },
        "outputId": "4fcbc265-bb9e-4ed9-a821-ac85a454e711"
      },
      "source": [
        "my_array = np.array([1, 2, 3])\n",
        "my_array"
      ],
      "execution_count": 7,
      "outputs": [
        {
          "output_type": "execute_result",
          "data": {
            "text/plain": [
              "array([1, 2, 3])"
            ]
          },
          "metadata": {},
          "execution_count": 7
        }
      ]
    },
    {
      "cell_type": "markdown",
      "metadata": {
        "id": "Sy2EvrxFriAG"
      },
      "source": [
        "NumPy supports array of arbitrary dimension. For example, we can create two-dimensional arrays (e.g. to store a matrix) as follows"
      ]
    },
    {
      "cell_type": "code",
      "metadata": {
        "id": "wM-GYVMsrzNs",
        "colab": {
          "base_uri": "https://localhost:8080/",
          "height": 51
        },
        "outputId": "3d524d20-cf2c-4d3c-ba08-4552be3a46d8"
      },
      "source": [
        "my_2d_array = np.array([[1, 2, 3], [4, 5, 6]])\n",
        "my_2d_array"
      ],
      "execution_count": null,
      "outputs": [
        {
          "output_type": "execute_result",
          "data": {
            "text/plain": [
              "array([[1, 2, 3],\n",
              "       [4, 5, 6]])"
            ]
          },
          "metadata": {
            "tags": []
          },
          "execution_count": 28
        }
      ]
    },
    {
      "cell_type": "markdown",
      "metadata": {
        "id": "-kZMzYsAsVAc"
      },
      "source": [
        "We can access individual elements of a 2d-array using two indices"
      ]
    },
    {
      "cell_type": "code",
      "metadata": {
        "id": "4q8X86BbscPd",
        "colab": {
          "base_uri": "https://localhost:8080/",
          "height": 34
        },
        "outputId": "3cefe32a-690a-4744-fad9-9c3edd763cd6"
      },
      "source": [
        "my_2d_array[1, 2]"
      ],
      "execution_count": null,
      "outputs": [
        {
          "output_type": "execute_result",
          "data": {
            "text/plain": [
              "6"
            ]
          },
          "metadata": {
            "tags": []
          },
          "execution_count": 30
        }
      ]
    },
    {
      "cell_type": "markdown",
      "metadata": {
        "id": "OfVIKyxkTh0p"
      },
      "source": [
        "We can also access rows"
      ]
    },
    {
      "cell_type": "code",
      "metadata": {
        "id": "CrKnDAtyTlYe",
        "colab": {
          "base_uri": "https://localhost:8080/",
          "height": 34
        },
        "outputId": "14060c28-8ee7-48f5-f0ca-bdcff12cc421"
      },
      "source": [
        "my_2d_array[1]"
      ],
      "execution_count": null,
      "outputs": [
        {
          "output_type": "execute_result",
          "data": {
            "text/plain": [
              "array([4, 5, 6])"
            ]
          },
          "metadata": {
            "tags": []
          },
          "execution_count": 66
        }
      ]
    },
    {
      "cell_type": "markdown",
      "metadata": {
        "id": "hskLBCp9ToCG"
      },
      "source": [
        "and columns"
      ]
    },
    {
      "cell_type": "code",
      "metadata": {
        "id": "MOOFsLHhTozX",
        "colab": {
          "base_uri": "https://localhost:8080/",
          "height": 34
        },
        "outputId": "8802a59a-0812-40a4-f930-ab2a3302bf46"
      },
      "source": [
        "my_2d_array[:, 2]"
      ],
      "execution_count": null,
      "outputs": [
        {
          "output_type": "execute_result",
          "data": {
            "text/plain": [
              "array([3, 6])"
            ]
          },
          "metadata": {
            "tags": []
          },
          "execution_count": 67
        }
      ]
    },
    {
      "cell_type": "markdown",
      "metadata": {
        "id": "keWK_5PHr9Q2"
      },
      "source": [
        "Arrays have a `shape` attribute"
      ]
    },
    {
      "cell_type": "code",
      "metadata": {
        "id": "5QIo7l1Yr8m7",
        "colab": {
          "base_uri": "https://localhost:8080/",
          "height": 51
        },
        "outputId": "357d4218-541d-4c7f-8bcf-b3f4523b1fa3"
      },
      "source": [
        "print(my_array.shape)\n",
        "print(my_2d_array.shape)"
      ],
      "execution_count": null,
      "outputs": [
        {
          "output_type": "stream",
          "text": [
            "(3,)\n",
            "(2, 3)\n"
          ],
          "name": "stdout"
        }
      ]
    },
    {
      "cell_type": "markdown",
      "metadata": {
        "id": "LmX0EDWVsoDY"
      },
      "source": [
        "Contrary to Python lists, NumPy arrays must have a type and all elements of the array must have the same type."
      ]
    },
    {
      "cell_type": "code",
      "metadata": {
        "id": "FZjOowkls57o",
        "colab": {
          "base_uri": "https://localhost:8080/",
          "height": 34
        },
        "outputId": "abb3edab-a903-40c8-f88a-1125fc6d4dbf"
      },
      "source": [
        "my_array.dtype"
      ],
      "execution_count": null,
      "outputs": [
        {
          "output_type": "execute_result",
          "data": {
            "text/plain": [
              "dtype('int64')"
            ]
          },
          "metadata": {
            "tags": []
          },
          "execution_count": 31
        }
      ]
    },
    {
      "cell_type": "markdown",
      "metadata": {
        "id": "i5AvLdf7tGnZ"
      },
      "source": [
        "The main types are `int32` (32-bit integers), `int64` (64-bit integers), `float32` (32-bit real values) and `float64` (64-bit real values)."
      ]
    },
    {
      "cell_type": "markdown",
      "metadata": {
        "id": "w8ym2qZCt9Nm"
      },
      "source": [
        "The `dtype` can be specified when creating the array"
      ]
    },
    {
      "cell_type": "code",
      "metadata": {
        "id": "gXpM_FqruCVv",
        "colab": {
          "base_uri": "https://localhost:8080/",
          "height": 34
        },
        "outputId": "20d8b981-56ed-4458-d9d8-2f9fb5fb2b58"
      },
      "source": [
        "my_array = np.array([1, 2, 3], dtype=np.float64)\n",
        "my_array.dtype"
      ],
      "execution_count": null,
      "outputs": [
        {
          "output_type": "execute_result",
          "data": {
            "text/plain": [
              "dtype('float64')"
            ]
          },
          "metadata": {
            "tags": []
          },
          "execution_count": 32
        }
      ]
    },
    {
      "cell_type": "markdown",
      "metadata": {
        "id": "WueaRIONuTdS"
      },
      "source": [
        "We can create arrays of all zeros using"
      ]
    },
    {
      "cell_type": "code",
      "metadata": {
        "id": "jbD8N1UauK8r",
        "colab": {
          "base_uri": "https://localhost:8080/",
          "height": 51
        },
        "outputId": "4a352f81-f0e8-4bc1-a651-760436c7d213"
      },
      "source": [
        "zero_array = np.zeros((2, 3))\n",
        "zero_array"
      ],
      "execution_count": null,
      "outputs": [
        {
          "output_type": "execute_result",
          "data": {
            "text/plain": [
              "array([[0., 0., 0.],\n",
              "       [0., 0., 0.]])"
            ]
          },
          "metadata": {
            "tags": []
          },
          "execution_count": 33
        }
      ]
    },
    {
      "cell_type": "markdown",
      "metadata": {
        "id": "vn5go6qoudo4"
      },
      "source": [
        "and similarly for all ones using `ones` instead of `zeros`."
      ]
    },
    {
      "cell_type": "markdown",
      "metadata": {
        "id": "1kCRlhLJuvZ6"
      },
      "source": [
        "We can create a range of values using"
      ]
    },
    {
      "cell_type": "code",
      "metadata": {
        "id": "EcQXDeEmuxpO",
        "colab": {
          "base_uri": "https://localhost:8080/",
          "height": 34
        },
        "outputId": "5a6fac79-26e3-4012-d5f4-82844372dc58"
      },
      "source": [
        "np.arange(5)"
      ],
      "execution_count": null,
      "outputs": [
        {
          "output_type": "execute_result",
          "data": {
            "text/plain": [
              "array([0, 1, 2, 3, 4])"
            ]
          },
          "metadata": {
            "tags": []
          },
          "execution_count": 34
        }
      ]
    },
    {
      "cell_type": "markdown",
      "metadata": {
        "id": "ZvJECk6Iu3uF"
      },
      "source": [
        "or specifying the starting point"
      ]
    },
    {
      "cell_type": "code",
      "metadata": {
        "id": "Pk3UzL3du_f8",
        "colab": {
          "base_uri": "https://localhost:8080/",
          "height": 34
        },
        "outputId": "1fd3f3fa-63ba-4a26-9274-011574bebbd2"
      },
      "source": [
        "np.arange(3, 5)"
      ],
      "execution_count": null,
      "outputs": [
        {
          "output_type": "execute_result",
          "data": {
            "text/plain": [
              "array([3, 4])"
            ]
          },
          "metadata": {
            "tags": []
          },
          "execution_count": 35
        }
      ]
    },
    {
      "cell_type": "markdown",
      "metadata": {
        "id": "f1JtqFSivJKG"
      },
      "source": [
        "Another useful routine is `linspace` for creating linearly spaced values in an interval. For instance, to create 10 values in `[0, 1]`, we can use"
      ]
    },
    {
      "cell_type": "code",
      "metadata": {
        "id": "udHHjGAHvOQM",
        "colab": {
          "base_uri": "https://localhost:8080/",
          "height": 51
        },
        "outputId": "473cec27-ac56-4dc9-984a-c1e340255a51"
      },
      "source": [
        "np.linspace(0, 1, 10)"
      ],
      "execution_count": null,
      "outputs": [
        {
          "output_type": "execute_result",
          "data": {
            "text/plain": [
              "array([0.        , 0.11111111, 0.22222222, 0.33333333, 0.44444444,\n",
              "       0.55555556, 0.66666667, 0.77777778, 0.88888889, 1.        ])"
            ]
          },
          "metadata": {
            "tags": []
          },
          "execution_count": 36
        }
      ]
    },
    {
      "cell_type": "markdown",
      "metadata": {
        "id": "WbcxAKobvgUT"
      },
      "source": [
        "Another important operation is `reshape`, for changing the shape of an array"
      ]
    },
    {
      "cell_type": "code",
      "metadata": {
        "id": "4FPzTuDlvlLO",
        "colab": {
          "base_uri": "https://localhost:8080/",
          "height": 68
        },
        "outputId": "338648ec-11e3-436f-d0e4-6745f9cb30d3"
      },
      "source": [
        "my_array = np.array([1, 2, 3, 4, 5, 6])\n",
        "my_array.reshape(3, 2)"
      ],
      "execution_count": null,
      "outputs": [
        {
          "output_type": "execute_result",
          "data": {
            "text/plain": [
              "array([[1, 2],\n",
              "       [3, 4],\n",
              "       [5, 6]])"
            ]
          },
          "metadata": {
            "tags": []
          },
          "execution_count": 37
        }
      ]
    },
    {
      "cell_type": "markdown",
      "metadata": {
        "id": "G-QR80_g3N9Y"
      },
      "source": [
        "Play with these operations and make sure you understand them well."
      ]
    },
    {
      "cell_type": "markdown",
      "metadata": {
        "id": "f9B0iCBlmfeY"
      },
      "source": [
        "## Basic operations"
      ]
    },
    {
      "cell_type": "markdown",
      "metadata": {
        "id": "elQGgkqDxKLV"
      },
      "source": [
        "In NumPy, we express computations directly over arrays. This makes the code much more succint."
      ]
    },
    {
      "cell_type": "markdown",
      "metadata": {
        "id": "hkCU1T8ixghX"
      },
      "source": [
        "Arithmetic operations can be performed directly over arrays. For instance, assuming two arrays have a compatible shape, we can add them as follows"
      ]
    },
    {
      "cell_type": "code",
      "metadata": {
        "id": "4AoiRq42x5mI",
        "colab": {
          "base_uri": "https://localhost:8080/",
          "height": 0
        },
        "outputId": "608bf0de-9d21-464e-d009-2925c17e1458"
      },
      "source": [
        "array_a = np.array([1, 2, 3])\n",
        "array_b = np.array([4, 5, 6])\n",
        "array_a + array_b"
      ],
      "execution_count": 8,
      "outputs": [
        {
          "output_type": "execute_result",
          "data": {
            "text/plain": [
              "array([5, 7, 9])"
            ]
          },
          "metadata": {},
          "execution_count": 8
        }
      ]
    },
    {
      "cell_type": "markdown",
      "metadata": {
        "id": "SyPqME2EyD4x"
      },
      "source": [
        "Compare this with the equivalent computation using a for loop"
      ]
    },
    {
      "cell_type": "code",
      "metadata": {
        "id": "HxRFA_U2yfI-",
        "colab": {
          "base_uri": "https://localhost:8080/",
          "height": 0
        },
        "outputId": "56bbb637-4dc9-4ad1-b9a6-dad55cd21428"
      },
      "source": [
        "array_out = np.zeros_like(array_a)\n",
        "for i in range(len(array_a)):\n",
        "  array_out[i] = array_a[i] + array_b[i]\n",
        "array_out"
      ],
      "execution_count": 9,
      "outputs": [
        {
          "output_type": "execute_result",
          "data": {
            "text/plain": [
              "array([5, 7, 9])"
            ]
          },
          "metadata": {},
          "execution_count": 9
        }
      ]
    },
    {
      "cell_type": "markdown",
      "metadata": {
        "id": "i2a-apX-zlPN"
      },
      "source": [
        "Not only this code is more verbose, it will also run much more slowly."
      ]
    },
    {
      "cell_type": "markdown",
      "metadata": {
        "id": "Qdn8MwpR0wX_"
      },
      "source": [
        "In NumPy, functions that operates on arrays in an element-wise fashion are called [universal functions](https://numpy.org/doc/stable/reference/ufuncs.html). For instance, this is the case of `np.sin`"
      ]
    },
    {
      "cell_type": "code",
      "metadata": {
        "id": "JoanjiMu1BH5",
        "colab": {
          "base_uri": "https://localhost:8080/",
          "height": 0
        },
        "outputId": "ff5730a9-c1e1-4e39-8459-8ac2e7648002"
      },
      "source": [
        "np.sin(array_a)"
      ],
      "execution_count": 10,
      "outputs": [
        {
          "output_type": "execute_result",
          "data": {
            "text/plain": [
              "array([0.84147098, 0.90929743, 0.14112001])"
            ]
          },
          "metadata": {},
          "execution_count": 10
        }
      ]
    },
    {
      "cell_type": "markdown",
      "metadata": {
        "id": "jHljrPXg5h8W"
      },
      "source": [
        "Vector inner product can be performed using `np.dot`"
      ]
    },
    {
      "cell_type": "code",
      "metadata": {
        "id": "TphR8oIx5ob9",
        "colab": {
          "base_uri": "https://localhost:8080/",
          "height": 0
        },
        "outputId": "2c5edaea-fa30-466b-8356-ae4d4b5e1694"
      },
      "source": [
        "np.dot(array_a, array_b)"
      ],
      "execution_count": 11,
      "outputs": [
        {
          "output_type": "execute_result",
          "data": {
            "text/plain": [
              "32"
            ]
          },
          "metadata": {},
          "execution_count": 11
        }
      ]
    },
    {
      "cell_type": "markdown",
      "metadata": {
        "id": "lHInOiSW50OR"
      },
      "source": [
        "When the two arguments to `np.dot` are both 2d arrays, `np.dot` becomes matrix multiplication"
      ]
    },
    {
      "cell_type": "code",
      "metadata": {
        "id": "QRbpbhPP6Up0",
        "colab": {
          "base_uri": "https://localhost:8080/",
          "height": 0
        },
        "outputId": "dedf1623-9aa9-4d30-b0d1-43ccb548d08f"
      },
      "source": [
        "array_A = np.random.rand(5, 3)\n",
        "array_B = np.random.randn(3, 4)\n",
        "np.dot(array_A, array_B)"
      ],
      "execution_count": 12,
      "outputs": [
        {
          "output_type": "execute_result",
          "data": {
            "text/plain": [
              "array([[ 0.1886919 ,  1.46293389,  1.26909212, -0.47394065],\n",
              "       [ 0.23330022,  1.68227335,  1.25543442, -0.45496886],\n",
              "       [-0.75818294,  1.59858942,  0.41666924, -0.28382238],\n",
              "       [-0.81833703,  1.026722  ,  0.4081246 , -0.30398728],\n",
              "       [-0.89161055,  0.70474759,  0.15028453, -0.21475403]])"
            ]
          },
          "metadata": {},
          "execution_count": 12
        }
      ]
    },
    {
      "cell_type": "markdown",
      "metadata": {
        "id": "odVawD9m6gwv"
      },
      "source": [
        "Matrix transpose can be done using `.transpose()` or `.T` for short"
      ]
    },
    {
      "cell_type": "code",
      "metadata": {
        "id": "gvPe_JAO6mvF",
        "colab": {
          "base_uri": "https://localhost:8080/",
          "height": 0
        },
        "outputId": "582ad8e0-07a4-4695-fd0e-f95b2b5919ee"
      },
      "source": [
        "array_A.T"
      ],
      "execution_count": 13,
      "outputs": [
        {
          "output_type": "execute_result",
          "data": {
            "text/plain": [
              "array([[0.97636781, 0.79859655, 0.52883053, 0.87144216, 0.71961548],\n",
              "       [0.59480601, 0.81922651, 0.82916405, 0.2967667 , 0.13824302],\n",
              "       [0.02466335, 0.29895194, 0.9456061 , 0.30766837, 0.26313026]])"
            ]
          },
          "metadata": {},
          "execution_count": 13
        }
      ]
    },
    {
      "cell_type": "markdown",
      "metadata": {
        "id": "JlWt3oFnE_E-"
      },
      "source": [
        "## Slicing and masking"
      ]
    },
    {
      "cell_type": "code",
      "metadata": {
        "id": "0kPhv2xcF1TP",
        "colab": {
          "base_uri": "https://localhost:8080/",
          "height": 34
        },
        "outputId": "a7315cac-0495-44da-e497-63aa677b8d47"
      },
      "source": [
        "np.arange(10)[5:]"
      ],
      "execution_count": null,
      "outputs": [
        {
          "output_type": "execute_result",
          "data": {
            "text/plain": [
              "array([5, 6, 7, 8, 9])"
            ]
          },
          "metadata": {
            "tags": []
          },
          "execution_count": 61
        }
      ]
    },
    {
      "cell_type": "markdown",
      "metadata": {
        "id": "ITu2Wy4-GB2G"
      },
      "source": [
        "We can also select only certain elements from the array"
      ]
    },
    {
      "cell_type": "code",
      "metadata": {
        "id": "8tlZzTB6GEyw",
        "colab": {
          "base_uri": "https://localhost:8080/",
          "height": 34
        },
        "outputId": "a2918cd3-f33b-48de-cd18-a3a8b1fb2fab"
      },
      "source": [
        "x = np.arange(10)\n",
        "mask = x >= 5\n",
        "x[mask]"
      ],
      "execution_count": null,
      "outputs": [
        {
          "output_type": "execute_result",
          "data": {
            "text/plain": [
              "array([5, 6, 7, 8, 9])"
            ]
          },
          "metadata": {
            "tags": []
          },
          "execution_count": 62
        }
      ]
    },
    {
      "cell_type": "markdown",
      "metadata": {
        "id": "NlGForCimjBL"
      },
      "source": [
        "## Exercises"
      ]
    },
    {
      "cell_type": "markdown",
      "metadata": {
        "id": "Ur1UlSFPTu6O"
      },
      "source": [
        "**Exercise 1.** Create a 3d array of shape (2, 2, 2), containing 8 values. Access individual elements and slices.\n",
        "\n",
        "> Add blockquote\n",
        "\n"
      ]
    },
    {
      "cell_type": "code",
      "metadata": {
        "id": "v1ed4-vLUWXQ",
        "colab": {
          "base_uri": "https://localhost:8080/",
          "height": 0
        },
        "outputId": "b2c0e659-abe3-4615-b319-b13b25a43767"
      },
      "source": [
        "array_3d = np.array([[[1, 2], [3, 4]],[[5, 6],[7, 8]]])\n",
        "print(array_3d)\n",
        "\n",
        "for i in range(array_3d.shape[0]):\n",
        "    for j in range(array_3d.shape[1]):\n",
        "        for k in range(array_3d.shape[2]):\n",
        "            element = array_3d[i, j, k]\n",
        "            print(f\"\\nIndividual Element at ({i}, {j}, {k}): {element}\")\n",
        "\n",
        "slice1 = array_3d[0, :, 0]\n",
        "print(\"\\nFirst column:\", slice1)\n",
        "slice2 = array_3d[1, 0, :]\n",
        "print(\"\\nFirst row\", slice2)"
      ],
      "execution_count": 68,
      "outputs": [
        {
          "output_type": "stream",
          "name": "stdout",
          "text": [
            "[[[1 2]\n",
            "  [3 4]]\n",
            "\n",
            " [[5 6]\n",
            "  [7 8]]]\n",
            "\n",
            "Individual Element at (0, 0, 0): 1\n",
            "\n",
            "Individual Element at (0, 0, 1): 2\n",
            "\n",
            "Individual Element at (0, 1, 0): 3\n",
            "\n",
            "Individual Element at (0, 1, 1): 4\n",
            "\n",
            "Individual Element at (1, 0, 0): 5\n",
            "\n",
            "Individual Element at (1, 0, 1): 6\n",
            "\n",
            "Individual Element at (1, 1, 0): 7\n",
            "\n",
            "Individual Element at (1, 1, 1): 8\n",
            "\n",
            "First column: [1 3]\n",
            "\n",
            "First row [5 6]\n"
          ]
        }
      ]
    },
    {
      "cell_type": "markdown",
      "metadata": {
        "id": "s_ksfCDJzyxI"
      },
      "source": [
        "**Exercise 2.** Rewrite the relu function (see Python section) using [np.maximum](https://numpy.org/doc/stable/reference/generated/numpy.maximum.html). Check that it works on both a single value and on an array of values."
      ]
    },
    {
      "cell_type": "code",
      "metadata": {
        "id": "QtSTxH5Dz6f8",
        "colab": {
          "base_uri": "https://localhost:8080/",
          "height": 0
        },
        "outputId": "e3e12624-07a2-4f5d-ccbc-a232df5d8b47"
      },
      "source": [
        "def relu_numpy(x):\n",
        "  return np.maximum(0, x)\n",
        "(relu_numpy(2.5))\n",
        "(relu_numpy(-3))\n",
        "\n",
        "relu_numpy(np.array([1, -3, 2.5]))"
      ],
      "execution_count": 71,
      "outputs": [
        {
          "output_type": "execute_result",
          "data": {
            "text/plain": [
              "array([1. , 0. , 2.5])"
            ]
          },
          "metadata": {},
          "execution_count": 71
        }
      ]
    },
    {
      "cell_type": "markdown",
      "metadata": {
        "id": "wggUjpyRz7fb"
      },
      "source": [
        "**Exercise 3.** Rewrite the Euclidean norm of a vector (1d array) using NumPy (without for loop)"
      ]
    },
    {
      "cell_type": "code",
      "metadata": {
        "id": "p5BLcHOD0Bhy",
        "colab": {
          "base_uri": "https://localhost:8080/",
          "height": 0
        },
        "outputId": "8e635e54-19d2-4b7b-8dd7-2157040efc33"
      },
      "source": [
        "def euclidean_norm_numpy(x):\n",
        "  return np.linalg.norm(x)\n",
        "\n",
        "my_vector = np.array([0.5, -1.2, 3.3, 4.5])\n",
        "euclidean_norm_numpy(my_vector)"
      ],
      "execution_count": 73,
      "outputs": [
        {
          "output_type": "execute_result",
          "data": {
            "text/plain": [
              "5.729746940310715"
            ]
          },
          "metadata": {},
          "execution_count": 73
        }
      ]
    },
    {
      "cell_type": "markdown",
      "metadata": {
        "id": "01IteVJ60Il2"
      },
      "source": [
        "**Exercise 4.** Write a function that computes the Euclidean norms of a matrix (2d array) in a row-wise fashion. Hint: use the `axis` argument of [np.sum](https://numpy.org/doc/stable/reference/generated/numpy.sum.html)."
      ]
    },
    {
      "cell_type": "code",
      "metadata": {
        "id": "at5lWRNM0SVG",
        "colab": {
          "base_uri": "https://localhost:8080/",
          "height": 0
        },
        "outputId": "b087e601-c363-4632-b21f-3f04c83566cd"
      },
      "source": [
        "def euclidean_norm_2d(X):\n",
        "  return np.sqrt(np.sum(X**2, axis=1))\n",
        "\n",
        "my_matrix = np.array([[0.5, -1.2, 4.5],\n",
        "                      [-3.2, 1.9, 2.7]])\n",
        "# Should return an array of size 2.\n",
        "euclidean_norm_2d(my_matrix)"
      ],
      "execution_count": 74,
      "outputs": [
        {
          "output_type": "execute_result",
          "data": {
            "text/plain": [
              "array([4.68401537, 4.59782557])"
            ]
          },
          "metadata": {},
          "execution_count": 74
        }
      ]
    },
    {
      "cell_type": "markdown",
      "metadata": {
        "id": "yd1ZoByo436x"
      },
      "source": [
        "**Exercise 5.** Compute the mean value of the features in the [iris dataset](https://scikit-learn.org/stable/modules/generated/sklearn.datasets.load_iris.html). Hint: use the `axis` argument on [np.mean](https://numpy.org/doc/stable/reference/generated/numpy.mean.html)."
      ]
    },
    {
      "cell_type": "code",
      "metadata": {
        "id": "fYFVobkP5JK6",
        "colab": {
          "base_uri": "https://localhost:8080/",
          "height": 0
        },
        "outputId": "f66106f2-6f95-4c94-8a39-dec8063c0ac2"
      },
      "source": [
        "from sklearn.datasets import load_iris\n",
        "X, y = load_iris(return_X_y=True)\n",
        "mean_val = np.mean(X, axis=0)\n",
        "(mean_val)\n",
        "# Result should be an array of size 4."
      ],
      "execution_count": 77,
      "outputs": [
        {
          "output_type": "execute_result",
          "data": {
            "text/plain": [
              "array([5.84333333, 3.05733333, 3.758     , 1.19933333])"
            ]
          },
          "metadata": {},
          "execution_count": 77
        }
      ]
    },
    {
      "cell_type": "markdown",
      "metadata": {
        "id": "1FDs9zX6mpoX"
      },
      "source": [
        "## Going further"
      ]
    },
    {
      "cell_type": "markdown",
      "metadata": {
        "id": "hFP61Iztmr9Q"
      },
      "source": [
        "* NumPy [reference](https://numpy.org/doc/stable/reference/)\n",
        "* SciPy [lectures](https://scipy-lectures.org/)\n",
        "*   One-hour [tutorial](https://www.youtube.com/watch?v=QUT1VHiLmmI) on Youtube\n",
        "\n"
      ]
    },
    {
      "cell_type": "markdown",
      "metadata": {
        "id": "7Jt6T3kJ8I2T"
      },
      "source": [
        "# Matplotlib"
      ]
    },
    {
      "cell_type": "markdown",
      "metadata": {
        "id": "kQX8TiEOALkQ"
      },
      "source": [
        "## Basic plots"
      ]
    },
    {
      "cell_type": "markdown",
      "metadata": {
        "id": "REYwc9Va8UTg"
      },
      "source": [
        "Matplotlib is a plotting library for Python."
      ]
    },
    {
      "cell_type": "markdown",
      "metadata": {
        "id": "Eom7t-m6-Uzb"
      },
      "source": [
        "We start with a rudimentary plotting example."
      ]
    },
    {
      "cell_type": "code",
      "metadata": {
        "id": "g21e5Ncm927z",
        "colab": {
          "base_uri": "https://localhost:8080/",
          "height": 472
        },
        "outputId": "5a647801-3965-49dc-b4ad-99257f0ea5f7"
      },
      "source": [
        "from matplotlib import pyplot as plt\n",
        "\n",
        "x_values = np.linspace(-3, 3, 100)\n",
        "\n",
        "plt.figure()\n",
        "plt.plot(x_values, np.sin(x_values), label=\"Sinusoid\")\n",
        "plt.xlabel(\"x\")\n",
        "plt.ylabel(\"sin(x)\")\n",
        "plt.title(\"Matplotlib example\")\n",
        "plt.legend(loc=\"upper left\")\n",
        "plt.show()"
      ],
      "execution_count": 14,
      "outputs": [
        {
          "output_type": "display_data",
          "data": {
            "text/plain": [
              "<Figure size 640x480 with 1 Axes>"
            ],
            "image/png": "[encoded data removed]"
          },
          "metadata": {}
        }
      ]
    },
    {
      "cell_type": "markdown",
      "metadata": {
        "id": "ltvlLwXF-eAH"
      },
      "source": [
        "We continue with a rudimentary scatter plot example. This example displays samples from the [iris dataset](https://scikit-learn.org/stable/modules/generated/sklearn.datasets.load_iris.html) using the first two features. Colors indicate class membership (there are 3 classes)."
      ]
    },
    {
      "cell_type": "code",
      "metadata": {
        "id": "sEzcJAmy-hbK",
        "colab": {
          "base_uri": "https://localhost:8080/",
          "height": 433
        },
        "outputId": "c419394f-467a-4f9e-e54c-2e7c1782097c"
      },
      "source": [
        "from sklearn.datasets import load_iris\n",
        "X, y = load_iris(return_X_y=True)\n",
        "\n",
        "X_class0 = X[y == 0]\n",
        "X_class1 = X[y == 1]\n",
        "X_class2 = X[y == 2]\n",
        "\n",
        "plt.figure()\n",
        "plt.scatter(X_class0[:, 0], X_class0[:, 1], label=\"Class 0\", color=\"C0\")\n",
        "plt.scatter(X_class1[:, 0], X_class1[:, 1], label=\"Class 1\", color=\"C1\")\n",
        "plt.scatter(X_class2[:, 0], X_class2[:, 1], label=\"Class 2\", color=\"C2\")\n",
        "plt.show()"
      ],
      "execution_count": 15,
      "outputs": [
        {
          "output_type": "display_data",
          "data": {
            "text/plain": [
              "<Figure size 640x480 with 1 Axes>"
            ],
            "image/png": "[encoded data removed]"
          },
          "metadata": {}
        }
      ]
    },
    {
      "cell_type": "markdown",
      "metadata": {
        "id": "5vjln9qwAc3M"
      },
      "source": [
        "We see that samples belonging to class 0 can be linearly separated from the rest using only the first two features."
      ]
    },
    {
      "cell_type": "markdown",
      "metadata": {
        "id": "uVWuIUs2AQ5a"
      },
      "source": [
        "## Exercises\n",
        "\n"
      ]
    },
    {
      "cell_type": "markdown",
      "metadata": {
        "id": "1X6-g6zgCwJd"
      },
      "source": [
        "**Exercise 1.** Plot the relu and the [softplus](https://en.wikipedia.org/wiki/Rectifier_(neural_networks)#Softplus) functions on the same graph."
      ]
    },
    {
      "cell_type": "code",
      "metadata": {
        "id": "Ob6HZUX0DJ8y",
        "colab": {
          "base_uri": "https://localhost:8080/",
          "height": 472
        },
        "outputId": "d776fb37-afbc-4558-c6b4-5eb7e251df61"
      },
      "source": [
        "import numpy as np\n",
        "import matplotlib.pyplot as plt\n",
        "\n",
        "relu = lambda x: np.maximum(0, x)\n",
        "softplus = lambda x: np.log1p(np.exp(x))\n",
        "\n",
        "x = np.linspace(-10, 10, 400)\n",
        "plt.plot(x, relu(x), label='ReLU', color='blue')\n",
        "plt.plot(x, softplus(x), label='Softplus', color='red')\n",
        "plt.title('ReLU and Softplus Functions')\n",
        "plt.xlabel('x')\n",
        "plt.ylabel('Function value')\n",
        "plt.legend()\n",
        "plt.grid(True)\n",
        "plt.show()"
      ],
      "execution_count": 78,
      "outputs": [
        {
          "output_type": "display_data",
          "data": {
            "text/plain": [
              "<Figure size 640x480 with 1 Axes>"
            ],
            "image/png": "[encoded data removed]"
          },
          "metadata": {}
        }
      ]
    },
    {
      "cell_type": "markdown",
      "metadata": {
        "id": "vpRGfz0aDW3l"
      },
      "source": [
        "What is the main difference between the two functions?\n",
        "\n",
        "ReLU is fast but has a tendency to stop training when it converts negative values to zero while maintaining positive numbers. Although it is slower, Softplus is more smooth and doesn't stop training."
      ]
    },
    {
      "cell_type": "markdown",
      "metadata": {
        "id": "JjDeIufRAYVL"
      },
      "source": [
        "**Exercise 2.** Repeat the same scatter plot but using the [digits dataset](https://scikit-learn.org/stable/modules/generated/sklearn.datasets.load_digits.html) instead."
      ]
    },
    {
      "cell_type": "code",
      "metadata": {
        "id": "-JU3TXCBBB0c",
        "colab": {
          "base_uri": "https://localhost:8080/",
          "height": 564
        },
        "outputId": "43e47e3b-fa18-438a-dc26-4d2dd704457c"
      },
      "source": [
        "from sklearn.datasets import load_digits\n",
        "X, y = load_digits(return_X_y=True)\n",
        "x1, x2 = X[:, 0], X[:, 1]\n",
        "\n",
        "plt.figure(figsize=(10, 6))\n",
        "plt.scatter(x1, x2, c=y, cmap='viridis', edgecolor='k', s=50)\n",
        "plt.title('Scatter Plot of Digits Dataset (First Two Features)')\n",
        "plt.xlabel('Feature 1')\n",
        "plt.ylabel('Feature 2')\n",
        "plt.colorbar(label='Digit Label')\n",
        "plt.grid(True)\n",
        "plt.show()"
      ],
      "execution_count": 79,
      "outputs": [
        {
          "output_type": "display_data",
          "data": {
            "text/plain": [
              "<Figure size 1000x600 with 2 Axes>"
            ],
            "image/png": "[encoded data removed]"
          },
          "metadata": {}
        }
      ]
    },
    {
      "cell_type": "markdown",
      "metadata": {
        "id": "w7wPWdmXBQA2"
      },
      "source": [
        "Are pixel values good features for classifying samples?\n",
        "\n",
        "Images can be classified using pixel values, but this approach often generates complex data and misses larger elements like textures and edges."
      ]
    },
    {
      "cell_type": "markdown",
      "metadata": {
        "id": "dYM-oV1jD3RV"
      },
      "source": [
        "## Going further\n",
        "\n",
        "*  Official [tutorial](https://matplotlib.org/tutorials/introductory/pyplot.html)\n",
        "* [Tutorial](https://www.youtube.com/watch?v=qErBw-R2Ybk) on Youtube"
      ]
    }
  ]
}